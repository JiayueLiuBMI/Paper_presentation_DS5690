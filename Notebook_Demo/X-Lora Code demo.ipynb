{
 "cells": [
  {
   "cell_type": "markdown",
   "id": "aadf16f1",
   "metadata": {},
   "source": [
    "Example for loading pre-trained X-LoRA model and do a quick inference"
   ]
  },
  {
   "cell_type": "code",
   "execution_count": null,
   "id": "72a574cd",
   "metadata": {},
   "outputs": [],
   "source": [
    "#pip install git+https://github.com/EricLBuehler/xlora.git -U"
   ]
  },
  {
   "cell_type": "code",
   "execution_count": null,
   "id": "6680600c",
   "metadata": {},
   "outputs": [],
   "source": [
    "import torch\n",
    "from xlora.xlora_utils import load_model  # type: ignore\n"
   ]
  },
  {
   "cell_type": "code",
   "execution_count": 7,
   "id": "ae1a5797",
   "metadata": {},
   "outputs": [],
   "source": [
    "model, tokenizer = load_model(\n",
    "    model_name=\"HuggingFaceH4/zephyr-7b-beta\",\n",
    "    device=\"cuda:0\",\n",
    "    dtype=torch.bfloat16,\n",
    "    adapters={\n",
    "        # the adapters can be added or removed \n",
    "        \"adapter_1\": \"lamm-mit/x-lora/X-LoRA_adapters/1/\",\n",
    "        \"adapter_2\": \"lamm-mit/x-lora/X-LoRA_adapters/2/\",\n",
    "        \"adapter_3\": \"lamm-mit/x-lora/X-LoRA_adapters/3/\",\n",
    "        \"adapter_4\": \"lamm-mit/x-lora/X-LoRA_adapters/4/\",\n",
    "        \"adapter_5\": \"lamm-mit/x-lora/X-LoRA_adapters/5/\",\n",
    "        \"adapter_6\": \"lamm-mit/x-lora/X-LoRA_adapters/6/\",\n",
    "        \"adapter_7\": \"lamm-mit/x-lora/X-LoRA_adapters/7/\",\n",
    "        \"adapter_8\": \"lamm-mit/x-lora/X-LoRA_adapters/8/\",\n",
    "        \"adapter_9\": \"lamm-mit/x-lora/X-LoRA_adapters/9/\",\n",
    "    },\n",
    ")\n",
    "\n",
    "\n"
   ]
  },
  {
   "cell_type": "code",
   "execution_count": 4,
   "id": "44507617",
   "metadata": {},
   "outputs": [],
   "source": [
    "\n",
    "def generate_response (model, tokenizer, \n",
    "                      text_input=\"What is the best biomaterial for superior strength?\",\n",
    "                      num_return_sequences = 1,\n",
    "                      temperature = 0.75,  \n",
    "                      max_new_tokens = 127,\n",
    "                      num_beams = 1,\n",
    "                      top_k = 50,\n",
    "                      top_p = 0.9,\n",
    "                      repetition_penalty=1.,\n",
    "                      eos_token_id=2, \n",
    "                      add_special_tokens=True,  \n",
    "                      ):\n",
    "    inputs = tokenizer(text_input,  add_special_tokens=add_special_tokens)\n",
    "    with torch.no_grad():\n",
    "          outputs = model.generate(input_ids = inputs[\"input_ids\"],\n",
    "                                    attention_mask = inputs[\"attention_mask\"] ,  \n",
    "                                    max_new_tokens=max_new_tokens,\n",
    "                                    temperature=temperature, \n",
    "                                    num_beams=num_beams,\n",
    "                                    top_k = top_k,\n",
    "                                    top_p = top_p,\n",
    "                                    num_return_sequences = num_return_sequences,\n",
    "                                    eos_token_id=eos_token_id,\n",
    "                                    pad_token_id = eos_token_id,\n",
    "                                    do_sample =True, \n",
    "                                    repetition_penalty=repetition_penalty,\n",
    "                                  )\n",
    "    return tokenizer.batch_decode(outputs[:,inputs[\"input_ids\"].shape[1]:].detach().cpu().numpy(), skip_special_tokens=True)\n",
    "\n",
    "\n",
    "\n"
   ]
  },
  {
   "cell_type": "code",
   "execution_count": null,
   "id": "1ed6acea",
   "metadata": {},
   "outputs": [],
   "source": [
    "output_text=generate_response (model, tokenizer, text_input=txt,eos_token_id=eos_token,\n",
    "                                           num_return_sequences=1, repetition_penalty=1.1,\n",
    "                                           top_p=0.9, top_k=512, \n",
    "                                           temperature=0.5,\n",
    "                                           max_new_tokens=256)\n",
    "\n",
    "print (output_text[0])"
   ]
  }
 ],
 "metadata": {
  "kernelspec": {
   "display_name": "Python 3 (ipykernel)",
   "language": "python",
   "name": "python3"
  },
  "language_info": {
   "codemirror_mode": {
    "name": "ipython",
    "version": 3
   },
   "file_extension": ".py",
   "mimetype": "text/x-python",
   "name": "python",
   "nbconvert_exporter": "python",
   "pygments_lexer": "ipython3",
   "version": "3.9.13"
  }
 },
 "nbformat": 4,
 "nbformat_minor": 5
}
